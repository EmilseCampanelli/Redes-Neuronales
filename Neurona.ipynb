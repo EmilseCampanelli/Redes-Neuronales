{
  "nbformat": 4,
  "nbformat_minor": 0,
  "metadata": {
    "colab": {
      "name": "Untitled0.ipynb",
      "provenance": [],
      "collapsed_sections": [],
      "include_colab_link": true
    },
    "kernelspec": {
      "name": "python3",
      "display_name": "Python 3"
    },
    "language_info": {
      "name": "python"
    }
  },
  "cells": [
    {
      "cell_type": "markdown",
      "metadata": {
        "id": "view-in-github",
        "colab_type": "text"
      },
      "source": [
        "<a href=\"https://colab.research.google.com/github/EmilseCampanelli/Redes-Neuronales/blob/main/Neurona.ipynb\" target=\"_parent\"><img src=\"https://colab.research.google.com/assets/colab-badge.svg\" alt=\"Open In Colab\"/></a>"
      ]
    },
    {
      "cell_type": "code",
      "metadata": {
        "id": "tLRDCKhT8ci9"
      },
      "source": [
        "from keras.models import Sequential\n",
        "from keras.layers import Dense\n",
        "from keras.activations import sigmoid\n",
        "from keras.losses import mse\n",
        "from keras.optimizers import SGD, Adam\n",
        "from keras.metrics import mean_squared_error, mean_absolute_error, mean_absolute_percentage_error, cosine_proximity, accuracy\n",
        "\n",
        "from sklearn.datasets import make_circles\n",
        "\n",
        "from sklearn.model_selection import train_test_split\n",
        "\n",
        "import matplotlib.pyplot as plt"
      ],
      "execution_count": 127,
      "outputs": []
    },
    {
      "cell_type": "code",
      "metadata": {
        "id": "6AhlHlCi8iFw",
        "colab": {
          "base_uri": "https://localhost:8080/",
          "height": 265
        },
        "outputId": "b5ed60e2-a3f9-4260-c361-dd30ba99aecc"
      },
      "source": [
        "n = 1000\n",
        "\n",
        "X, Y = make_circles(n_samples=n, factor=0.5, noise=0.1)\n",
        "\n",
        "plt.scatter(X[Y == 0, 0], X[Y == 0, 1], c=\"skyblue\")\n",
        "plt.scatter(X[Y == 1, 0], X[Y == 1, 1], c=\"salmon\")\n",
        "plt.axis(\"equal\")\n",
        "plt.show()"
      ],
      "execution_count": 128,
      "outputs": [
        {
          "output_type": "display_data",
          "data": {
            "image/png": "[encoded data removed]",
            "text/plain": [
              "<Figure size 432x288 with 1 Axes>"
            ]
          },
          "metadata": {
            "tags": [],
            "needs_background": "light"
          }
        }
      ]
    },
    {
      "cell_type": "code",
      "metadata": {
        "id": "on-3xjS98qck"
      },
      "source": [
        "model = Sequential()\n",
        "\n",
        "model.add(Dense(4, input_dim=2, activation=sigmoid)) # primera capa oculta 4 neuronas y fa sigmoid\n",
        "model.add(Dense(8, activation=sigmoid)) # primera capa oculta 8 neuronas y fa sigmoid\n",
        "model.add(Dense(4, activation=sigmoid)) # primera capa oculta 4 neuronas y fa sigmoid\n",
        "model.add(Dense(1, activation=sigmoid)) # primera capa oculta 1 neuronas y fa sigmoid"
      ],
      "execution_count": 129,
      "outputs": []
    },
    {
      "cell_type": "code",
      "metadata": {
        "id": "cwbK0KaM8vBM"
      },
      "source": [
        "sgd = SGD(learning_rate=0.01)\n",
        "\n",
        "#adam = Adam(learning_rate=0.006)\n",
        "\n",
        "model.compile(loss=mse, optimizer=sgd, metrics=['accuracy'])\n",
        "#model.compile(loss=mse, optimizer=sgd)"
      ],
      "execution_count": 130,
      "outputs": []
    },
    {
      "cell_type": "code",
      "metadata": {
        "id": "dZz4xHrR8yOv",
        "colab": {
          "base_uri": "https://localhost:8080/"
        },
        "outputId": "e5053312-4564-480f-d773-4553caea02a3"
      },
      "source": [
        "history = model.fit(X, Y, validation_split=0.2, batch_size=10, epochs=100)"
      ],
      "execution_count": 131,
      "outputs": [
        {
          "output_type": "stream",
          "text": [
            "Epoch 1/100\n",
            "80/80 [==============================] - 1s 5ms/step - loss: 0.2589 - accuracy: 0.4981 - val_loss: 0.2615 - val_accuracy: 0.4700\n",
            "Epoch 2/100\n",
            "80/80 [==============================] - 0s 2ms/step - loss: 0.2558 - accuracy: 0.5025 - val_loss: 0.2590 - val_accuracy: 0.4700\n",
            "Epoch 3/100\n",
            "80/80 [==============================] - 0s 2ms/step - loss: 0.2527 - accuracy: 0.5137 - val_loss: 0.2571 - val_accuracy: 0.4700\n",
            "Epoch 4/100\n",
            "80/80 [==============================] - 0s 2ms/step - loss: 0.2499 - accuracy: 0.5296 - val_loss: 0.2557 - val_accuracy: 0.4700\n",
            "Epoch 5/100\n",
            "80/80 [==============================] - 0s 2ms/step - loss: 0.2518 - accuracy: 0.5069 - val_loss: 0.2546 - val_accuracy: 0.4700\n",
            "Epoch 6/100\n",
            "80/80 [==============================] - 0s 2ms/step - loss: 0.2501 - accuracy: 0.5211 - val_loss: 0.2537 - val_accuracy: 0.4700\n",
            "Epoch 7/100\n",
            "80/80 [==============================] - 0s 2ms/step - loss: 0.2515 - accuracy: 0.4978 - val_loss: 0.2531 - val_accuracy: 0.4700\n",
            "Epoch 8/100\n",
            "80/80 [==============================] - 0s 2ms/step - loss: 0.2503 - accuracy: 0.5127 - val_loss: 0.2526 - val_accuracy: 0.4700\n",
            "Epoch 9/100\n",
            "80/80 [==============================] - 0s 2ms/step - loss: 0.2507 - accuracy: 0.5026 - val_loss: 0.2522 - val_accuracy: 0.4700\n",
            "Epoch 10/100\n",
            "80/80 [==============================] - 0s 2ms/step - loss: 0.2503 - accuracy: 0.5079 - val_loss: 0.2518 - val_accuracy: 0.4700\n",
            "Epoch 11/100\n",
            "80/80 [==============================] - 0s 2ms/step - loss: 0.2500 - accuracy: 0.5133 - val_loss: 0.2516 - val_accuracy: 0.4700\n",
            "Epoch 12/100\n",
            "80/80 [==============================] - 0s 1ms/step - loss: 0.2496 - accuracy: 0.5206 - val_loss: 0.2514 - val_accuracy: 0.4700\n",
            "Epoch 13/100\n",
            "80/80 [==============================] - 0s 2ms/step - loss: 0.2512 - accuracy: 0.4757 - val_loss: 0.2513 - val_accuracy: 0.4700\n",
            "Epoch 14/100\n",
            "80/80 [==============================] - 0s 2ms/step - loss: 0.2500 - accuracy: 0.5082 - val_loss: 0.2511 - val_accuracy: 0.4700\n",
            "Epoch 15/100\n",
            "80/80 [==============================] - 0s 2ms/step - loss: 0.2493 - accuracy: 0.5307 - val_loss: 0.2510 - val_accuracy: 0.4700\n",
            "Epoch 16/100\n",
            "80/80 [==============================] - 0s 2ms/step - loss: 0.2495 - accuracy: 0.5252 - val_loss: 0.2509 - val_accuracy: 0.4700\n",
            "Epoch 17/100\n",
            "80/80 [==============================] - 0s 2ms/step - loss: 0.2504 - accuracy: 0.4929 - val_loss: 0.2508 - val_accuracy: 0.4700\n",
            "Epoch 18/100\n",
            "80/80 [==============================] - 0s 1ms/step - loss: 0.2508 - accuracy: 0.4736 - val_loss: 0.2508 - val_accuracy: 0.4700\n",
            "Epoch 19/100\n",
            "80/80 [==============================] - 0s 2ms/step - loss: 0.2501 - accuracy: 0.5006 - val_loss: 0.2507 - val_accuracy: 0.4700\n",
            "Epoch 20/100\n",
            "80/80 [==============================] - 0s 2ms/step - loss: 0.2502 - accuracy: 0.4954 - val_loss: 0.2507 - val_accuracy: 0.4700\n",
            "Epoch 21/100\n",
            "80/80 [==============================] - 0s 2ms/step - loss: 0.2499 - accuracy: 0.5089 - val_loss: 0.2507 - val_accuracy: 0.4700\n",
            "Epoch 22/100\n",
            "80/80 [==============================] - 0s 2ms/step - loss: 0.2495 - accuracy: 0.5281 - val_loss: 0.2506 - val_accuracy: 0.4700\n",
            "Epoch 23/100\n",
            "80/80 [==============================] - 0s 2ms/step - loss: 0.2503 - accuracy: 0.4929 - val_loss: 0.2506 - val_accuracy: 0.4700\n",
            "Epoch 24/100\n",
            "80/80 [==============================] - 0s 2ms/step - loss: 0.2506 - accuracy: 0.4774 - val_loss: 0.2506 - val_accuracy: 0.4700\n",
            "Epoch 25/100\n",
            "80/80 [==============================] - 0s 2ms/step - loss: 0.2503 - accuracy: 0.4914 - val_loss: 0.2506 - val_accuracy: 0.4700\n",
            "Epoch 26/100\n",
            "80/80 [==============================] - 0s 2ms/step - loss: 0.2501 - accuracy: 0.5015 - val_loss: 0.2506 - val_accuracy: 0.4700\n",
            "Epoch 27/100\n",
            "80/80 [==============================] - 0s 2ms/step - loss: 0.2498 - accuracy: 0.5181 - val_loss: 0.2506 - val_accuracy: 0.4700\n",
            "Epoch 28/100\n",
            "80/80 [==============================] - 0s 2ms/step - loss: 0.2497 - accuracy: 0.5236 - val_loss: 0.2505 - val_accuracy: 0.4700\n",
            "Epoch 29/100\n",
            "80/80 [==============================] - 0s 2ms/step - loss: 0.2496 - accuracy: 0.5300 - val_loss: 0.2505 - val_accuracy: 0.4700\n",
            "Epoch 30/100\n",
            "80/80 [==============================] - 0s 2ms/step - loss: 0.2497 - accuracy: 0.5276 - val_loss: 0.2505 - val_accuracy: 0.4700\n",
            "Epoch 31/100\n",
            "80/80 [==============================] - 0s 2ms/step - loss: 0.2500 - accuracy: 0.5024 - val_loss: 0.2505 - val_accuracy: 0.4700\n",
            "Epoch 32/100\n",
            "80/80 [==============================] - 0s 2ms/step - loss: 0.2499 - accuracy: 0.5127 - val_loss: 0.2505 - val_accuracy: 0.4700\n",
            "Epoch 33/100\n",
            "80/80 [==============================] - 0s 2ms/step - loss: 0.2502 - accuracy: 0.4918 - val_loss: 0.2505 - val_accuracy: 0.4700\n",
            "Epoch 34/100\n",
            "80/80 [==============================] - 0s 2ms/step - loss: 0.2499 - accuracy: 0.5134 - val_loss: 0.2505 - val_accuracy: 0.4700\n",
            "Epoch 35/100\n",
            "80/80 [==============================] - 0s 2ms/step - loss: 0.2502 - accuracy: 0.4943 - val_loss: 0.2505 - val_accuracy: 0.4700\n",
            "Epoch 36/100\n",
            "80/80 [==============================] - 0s 2ms/step - loss: 0.2505 - accuracy: 0.4689 - val_loss: 0.2505 - val_accuracy: 0.4700\n",
            "Epoch 37/100\n",
            "80/80 [==============================] - 0s 2ms/step - loss: 0.2503 - accuracy: 0.4887 - val_loss: 0.2505 - val_accuracy: 0.4700\n",
            "Epoch 38/100\n",
            "80/80 [==============================] - 0s 2ms/step - loss: 0.2501 - accuracy: 0.5028 - val_loss: 0.2505 - val_accuracy: 0.4700\n",
            "Epoch 39/100\n",
            "80/80 [==============================] - 0s 2ms/step - loss: 0.2500 - accuracy: 0.5024 - val_loss: 0.2505 - val_accuracy: 0.4700\n",
            "Epoch 40/100\n",
            "80/80 [==============================] - 0s 2ms/step - loss: 0.2494 - accuracy: 0.5438 - val_loss: 0.2505 - val_accuracy: 0.4700\n",
            "Epoch 41/100\n",
            "80/80 [==============================] - 0s 2ms/step - loss: 0.2499 - accuracy: 0.5145 - val_loss: 0.2505 - val_accuracy: 0.4700\n",
            "Epoch 42/100\n",
            "80/80 [==============================] - 0s 2ms/step - loss: 0.2498 - accuracy: 0.5201 - val_loss: 0.2505 - val_accuracy: 0.4700\n",
            "Epoch 43/100\n",
            "80/80 [==============================] - 0s 2ms/step - loss: 0.2496 - accuracy: 0.5330 - val_loss: 0.2505 - val_accuracy: 0.4700\n",
            "Epoch 44/100\n",
            "80/80 [==============================] - 0s 2ms/step - loss: 0.2492 - accuracy: 0.5538 - val_loss: 0.2504 - val_accuracy: 0.4700\n",
            "Epoch 45/100\n",
            "80/80 [==============================] - 0s 2ms/step - loss: 0.2499 - accuracy: 0.5172 - val_loss: 0.2504 - val_accuracy: 0.4700\n",
            "Epoch 46/100\n",
            "80/80 [==============================] - 0s 2ms/step - loss: 0.2501 - accuracy: 0.4960 - val_loss: 0.2505 - val_accuracy: 0.4700\n",
            "Epoch 47/100\n",
            "80/80 [==============================] - 0s 2ms/step - loss: 0.2498 - accuracy: 0.5190 - val_loss: 0.2505 - val_accuracy: 0.4700\n",
            "Epoch 48/100\n",
            "80/80 [==============================] - 0s 2ms/step - loss: 0.2495 - accuracy: 0.5390 - val_loss: 0.2505 - val_accuracy: 0.4700\n",
            "Epoch 49/100\n",
            "80/80 [==============================] - 0s 2ms/step - loss: 0.2498 - accuracy: 0.5213 - val_loss: 0.2505 - val_accuracy: 0.4700\n",
            "Epoch 50/100\n",
            "80/80 [==============================] - 0s 2ms/step - loss: 0.2502 - accuracy: 0.4951 - val_loss: 0.2505 - val_accuracy: 0.4700\n",
            "Epoch 51/100\n",
            "80/80 [==============================] - 0s 2ms/step - loss: 0.2495 - accuracy: 0.5376 - val_loss: 0.2505 - val_accuracy: 0.4700\n",
            "Epoch 52/100\n",
            "80/80 [==============================] - 0s 2ms/step - loss: 0.2500 - accuracy: 0.5021 - val_loss: 0.2505 - val_accuracy: 0.4700\n",
            "Epoch 53/100\n",
            "80/80 [==============================] - 0s 2ms/step - loss: 0.2498 - accuracy: 0.5184 - val_loss: 0.2505 - val_accuracy: 0.4700\n",
            "Epoch 54/100\n",
            "80/80 [==============================] - 0s 2ms/step - loss: 0.2498 - accuracy: 0.5170 - val_loss: 0.2505 - val_accuracy: 0.4700\n",
            "Epoch 55/100\n",
            "80/80 [==============================] - 0s 2ms/step - loss: 0.2502 - accuracy: 0.4928 - val_loss: 0.2505 - val_accuracy: 0.4700\n",
            "Epoch 56/100\n",
            "80/80 [==============================] - 0s 2ms/step - loss: 0.2494 - accuracy: 0.5454 - val_loss: 0.2505 - val_accuracy: 0.4700\n",
            "Epoch 57/100\n",
            "80/80 [==============================] - 0s 2ms/step - loss: 0.2499 - accuracy: 0.5142 - val_loss: 0.2504 - val_accuracy: 0.4700\n",
            "Epoch 58/100\n",
            "80/80 [==============================] - 0s 2ms/step - loss: 0.2501 - accuracy: 0.4970 - val_loss: 0.2505 - val_accuracy: 0.4700\n",
            "Epoch 59/100\n",
            "80/80 [==============================] - 0s 2ms/step - loss: 0.2498 - accuracy: 0.5231 - val_loss: 0.2505 - val_accuracy: 0.4700\n",
            "Epoch 60/100\n",
            "80/80 [==============================] - 0s 2ms/step - loss: 0.2499 - accuracy: 0.5114 - val_loss: 0.2505 - val_accuracy: 0.4700\n",
            "Epoch 61/100\n",
            "80/80 [==============================] - 0s 2ms/step - loss: 0.2501 - accuracy: 0.4961 - val_loss: 0.2505 - val_accuracy: 0.4700\n",
            "Epoch 62/100\n",
            "80/80 [==============================] - 0s 2ms/step - loss: 0.2496 - accuracy: 0.5324 - val_loss: 0.2505 - val_accuracy: 0.4700\n",
            "Epoch 63/100\n",
            "80/80 [==============================] - 0s 2ms/step - loss: 0.2501 - accuracy: 0.5022 - val_loss: 0.2505 - val_accuracy: 0.4700\n",
            "Epoch 64/100\n",
            "80/80 [==============================] - 0s 2ms/step - loss: 0.2502 - accuracy: 0.4895 - val_loss: 0.2505 - val_accuracy: 0.4700\n",
            "Epoch 65/100\n",
            "80/80 [==============================] - 0s 2ms/step - loss: 0.2501 - accuracy: 0.5021 - val_loss: 0.2505 - val_accuracy: 0.4700\n",
            "Epoch 66/100\n",
            "80/80 [==============================] - 0s 2ms/step - loss: 0.2503 - accuracy: 0.4863 - val_loss: 0.2505 - val_accuracy: 0.4700\n",
            "Epoch 67/100\n",
            "80/80 [==============================] - 0s 2ms/step - loss: 0.2499 - accuracy: 0.5137 - val_loss: 0.2505 - val_accuracy: 0.4700\n",
            "Epoch 68/100\n",
            "80/80 [==============================] - 0s 2ms/step - loss: 0.2498 - accuracy: 0.5205 - val_loss: 0.2505 - val_accuracy: 0.4700\n",
            "Epoch 69/100\n",
            "80/80 [==============================] - 0s 2ms/step - loss: 0.2501 - accuracy: 0.5033 - val_loss: 0.2505 - val_accuracy: 0.4700\n",
            "Epoch 70/100\n",
            "80/80 [==============================] - 0s 2ms/step - loss: 0.2502 - accuracy: 0.4962 - val_loss: 0.2505 - val_accuracy: 0.4700\n",
            "Epoch 71/100\n",
            "80/80 [==============================] - 0s 2ms/step - loss: 0.2500 - accuracy: 0.5085 - val_loss: 0.2505 - val_accuracy: 0.4700\n",
            "Epoch 72/100\n",
            "80/80 [==============================] - 0s 2ms/step - loss: 0.2497 - accuracy: 0.5234 - val_loss: 0.2505 - val_accuracy: 0.4700\n",
            "Epoch 73/100\n",
            "80/80 [==============================] - 0s 2ms/step - loss: 0.2503 - accuracy: 0.4861 - val_loss: 0.2505 - val_accuracy: 0.4700\n",
            "Epoch 74/100\n",
            "80/80 [==============================] - 0s 2ms/step - loss: 0.2500 - accuracy: 0.5035 - val_loss: 0.2505 - val_accuracy: 0.4700\n",
            "Epoch 75/100\n",
            "80/80 [==============================] - 0s 2ms/step - loss: 0.2502 - accuracy: 0.4957 - val_loss: 0.2505 - val_accuracy: 0.4700\n",
            "Epoch 76/100\n",
            "80/80 [==============================] - 0s 2ms/step - loss: 0.2502 - accuracy: 0.4952 - val_loss: 0.2505 - val_accuracy: 0.4700\n",
            "Epoch 77/100\n",
            "80/80 [==============================] - 0s 2ms/step - loss: 0.2496 - accuracy: 0.5267 - val_loss: 0.2505 - val_accuracy: 0.4700\n",
            "Epoch 78/100\n",
            "80/80 [==============================] - 0s 2ms/step - loss: 0.2504 - accuracy: 0.4759 - val_loss: 0.2505 - val_accuracy: 0.4700\n",
            "Epoch 79/100\n",
            "80/80 [==============================] - 0s 2ms/step - loss: 0.2493 - accuracy: 0.5427 - val_loss: 0.2505 - val_accuracy: 0.4700\n",
            "Epoch 80/100\n",
            "80/80 [==============================] - 0s 2ms/step - loss: 0.2500 - accuracy: 0.5065 - val_loss: 0.2505 - val_accuracy: 0.4700\n",
            "Epoch 81/100\n",
            "80/80 [==============================] - 0s 2ms/step - loss: 0.2501 - accuracy: 0.4964 - val_loss: 0.2505 - val_accuracy: 0.4700\n",
            "Epoch 82/100\n",
            "80/80 [==============================] - 0s 2ms/step - loss: 0.2504 - accuracy: 0.4800 - val_loss: 0.2505 - val_accuracy: 0.4700\n",
            "Epoch 83/100\n",
            "80/80 [==============================] - 0s 1ms/step - loss: 0.2497 - accuracy: 0.5256 - val_loss: 0.2505 - val_accuracy: 0.4700\n",
            "Epoch 84/100\n",
            "80/80 [==============================] - 0s 2ms/step - loss: 0.2502 - accuracy: 0.4972 - val_loss: 0.2505 - val_accuracy: 0.4700\n",
            "Epoch 85/100\n",
            "80/80 [==============================] - 0s 2ms/step - loss: 0.2502 - accuracy: 0.4939 - val_loss: 0.2505 - val_accuracy: 0.4700\n",
            "Epoch 86/100\n",
            "80/80 [==============================] - 0s 2ms/step - loss: 0.2497 - accuracy: 0.5221 - val_loss: 0.2505 - val_accuracy: 0.4700\n",
            "Epoch 87/100\n",
            "80/80 [==============================] - 0s 2ms/step - loss: 0.2502 - accuracy: 0.4976 - val_loss: 0.2505 - val_accuracy: 0.4700\n",
            "Epoch 88/100\n",
            "80/80 [==============================] - 0s 2ms/step - loss: 0.2501 - accuracy: 0.5016 - val_loss: 0.2505 - val_accuracy: 0.4700\n",
            "Epoch 89/100\n",
            "80/80 [==============================] - 0s 2ms/step - loss: 0.2502 - accuracy: 0.4902 - val_loss: 0.2505 - val_accuracy: 0.4700\n",
            "Epoch 90/100\n",
            "80/80 [==============================] - 0s 2ms/step - loss: 0.2502 - accuracy: 0.4940 - val_loss: 0.2505 - val_accuracy: 0.4700\n",
            "Epoch 91/100\n",
            "80/80 [==============================] - 0s 2ms/step - loss: 0.2500 - accuracy: 0.5064 - val_loss: 0.2505 - val_accuracy: 0.4700\n",
            "Epoch 92/100\n",
            "80/80 [==============================] - 0s 2ms/step - loss: 0.2494 - accuracy: 0.5424 - val_loss: 0.2505 - val_accuracy: 0.4700\n",
            "Epoch 93/100\n",
            "80/80 [==============================] - 0s 2ms/step - loss: 0.2501 - accuracy: 0.4994 - val_loss: 0.2505 - val_accuracy: 0.4700\n",
            "Epoch 94/100\n",
            "80/80 [==============================] - 0s 2ms/step - loss: 0.2497 - accuracy: 0.5245 - val_loss: 0.2505 - val_accuracy: 0.4700\n",
            "Epoch 95/100\n",
            "80/80 [==============================] - 0s 2ms/step - loss: 0.2498 - accuracy: 0.5235 - val_loss: 0.2505 - val_accuracy: 0.4700\n",
            "Epoch 96/100\n",
            "80/80 [==============================] - 0s 2ms/step - loss: 0.2503 - accuracy: 0.4833 - val_loss: 0.2505 - val_accuracy: 0.4700\n",
            "Epoch 97/100\n",
            "80/80 [==============================] - 0s 2ms/step - loss: 0.2497 - accuracy: 0.5263 - val_loss: 0.2505 - val_accuracy: 0.4700\n",
            "Epoch 98/100\n",
            "80/80 [==============================] - 0s 2ms/step - loss: 0.2499 - accuracy: 0.5109 - val_loss: 0.2505 - val_accuracy: 0.4700\n",
            "Epoch 99/100\n",
            "80/80 [==============================] - 0s 2ms/step - loss: 0.2497 - accuracy: 0.5285 - val_loss: 0.2505 - val_accuracy: 0.4700\n",
            "Epoch 100/100\n",
            "80/80 [==============================] - 0s 2ms/step - loss: 0.2500 - accuracy: 0.5100 - val_loss: 0.2505 - val_accuracy: 0.4700\n"
          ],
          "name": "stdout"
        }
      ]
    },
    {
      "cell_type": "code",
      "metadata": {
        "id": "-p58ihPY84wl",
        "colab": {
          "base_uri": "https://localhost:8080/",
          "height": 269
        },
        "outputId": "ec6c29f4-44d8-4774-b369-eac0552678b6"
      },
      "source": [
        "history.history\n",
        "plt.plot(range(len(history.history['val_loss'])), history.history['val_loss'])\n",
        "plt.plot(range(len(history.history['loss'])), history.history['loss'])\n",
        "\n",
        "#plt.plot(history.history['accuracy'])\n",
        "#plt.plot(history.history['mean_absolute_error'])\n",
        "#plt.plot(history.history['mean_absolute_percentage_error'])\n",
        "#plt.plot(history.history['cosine_proximity'])\n",
        "plt.show()"
      ],
      "execution_count": 132,
      "outputs": [
        {
          "output_type": "display_data",
          "data": {
            "image/png": "[encoded data removed]",
            "text/plain": [
              "<Figure size 432x288 with 1 Axes>"
            ]
          },
          "metadata": {
            "tags": [],
            "needs_background": "light"
          }
        }
      ]
    },
    {
      "cell_type": "markdown",
      "metadata": {
        "id": "tPwwSLmdjhdb"
      },
      "source": [
        "# Conclusion \n",
        "\n",
        "En la grafica podemos observar que el error de validacion(val_loss) se mantiene constante, es decir que no esta creciendo y el error de entrenamiento(loss) sufre una pequeña variacion, pero sin embargo se mantiene mas chico que el \"Val_loss\". Por lo tanto podemos concluir debido a la grafica obtenida  que esta red neuronal esta bien entrenada ya que el error de validacion (grafica azul) no crece \n"
      ]
    }
  ]
}